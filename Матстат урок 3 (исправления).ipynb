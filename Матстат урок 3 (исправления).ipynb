{
 "cells": [
  {
   "cell_type": "markdown",
   "metadata": {},
   "source": [
    "### Урок 3. Описательная статистика. Качественные и количественные характеристики популяции. Графическое представление данных"
   ]
  },
  {
   "cell_type": "markdown",
   "metadata": {},
   "source": [
    "#### 1. Даны значения зарплат из выборки выпускников: 100, 80, 75, 77, 89, 33, 45, 25, 65, 17, 30, 24, 57, 55, 70, 75, 65, 84, 90, 150. Посчитать (желательно без использования статистических методов наподобие std, var, mean) среднее арифметическое, среднее квадратичное отклонение, смещенную и несмещенную оценки дисперсий для данной выборки."
   ]
  },
  {
   "cell_type": "code",
   "execution_count": 66,
   "metadata": {},
   "outputs": [],
   "source": [
    "import numpy as np\n",
    "import pandas as pd\n",
    "import matplotlib.pyplot as plt\n"
   ]
  },
  {
   "cell_type": "code",
   "execution_count": 67,
   "metadata": {},
   "outputs": [
    {
     "name": "stdout",
     "output_type": "stream",
     "text": [
      "[100, 80, 75, 77, 89, 33, 45, 25, 65, 17, 30, 24, 57, 55, 70, 75, 65, 84, 90, 150]\n"
     ]
    }
   ],
   "source": [
    "data_set = [100, 80, 75, 77, 89, 33, 45, 25,65, 17, 30, 24, 57, 55, 70, 75, 65, 84, 90, 150]\n",
    "print(data_set)"
   ]
  },
  {
   "cell_type": "code",
   "execution_count": 68,
   "metadata": {},
   "outputs": [
    {
     "name": "stdout",
     "output_type": "stream",
     "text": [
      "[17, 24, 25, 30, 33, 45, 55, 57, 65, 65, 70, 75, 75, 77, 80, 84, 89, 90, 100, 150]\n"
     ]
    }
   ],
   "source": [
    "data_set.sort()\n",
    "print(data_set)"
   ]
  },
  {
   "cell_type": "markdown",
   "metadata": {},
   "source": [
    "среднее арифметическое\n",
    "\n",
    "$$M(X) = \\frac{1}{n} \\sum\\limits_{i=1}^{n} x_i$$"
   ]
  },
  {
   "cell_type": "code",
   "execution_count": 69,
   "metadata": {},
   "outputs": [
    {
     "data": {
      "text/plain": [
       "1306"
      ]
     },
     "execution_count": 69,
     "metadata": {},
     "output_type": "execute_result"
    }
   ],
   "source": [
    "17+24+25+30+33+45+55+57+65+65+70+75+75+77+80+84+89+90+100+150"
   ]
  },
  {
   "cell_type": "code",
   "execution_count": 70,
   "metadata": {},
   "outputs": [
    {
     "data": {
      "text/plain": [
       "65.3"
      ]
     },
     "execution_count": 70,
     "metadata": {},
     "output_type": "execute_result"
    }
   ],
   "source": [
    "1306/20"
   ]
  },
  {
   "cell_type": "code",
   "execution_count": 71,
   "metadata": {},
   "outputs": [
    {
     "name": "stdout",
     "output_type": "stream",
     "text": [
      "Среднее арифметическое = 65.3\n"
     ]
    }
   ],
   "source": [
    "# среднее арифметическое\n",
    "mean_data_set = sum(data_set) / len(data_set)\n",
    "print(f'Среднее арифметическое = {mean_data_set}')\n",
    "    "
   ]
  },
  {
   "cell_type": "code",
   "execution_count": 72,
   "metadata": {},
   "outputs": [],
   "source": [
    "# среднее квадратичное отклонение\n"
   ]
  },
  {
   "cell_type": "markdown",
   "metadata": {},
   "source": [
    "$$\\sigma = \\sqrt{\\frac{\\sum\\limits_{i=1}^{n} (x_i - \\overline{x})^2}{n}}$$"
   ]
  },
  {
   "cell_type": "code",
   "execution_count": 73,
   "metadata": {},
   "outputs": [
    {
     "data": {
      "text/plain": [
       "19002.2"
      ]
     },
     "execution_count": 73,
     "metadata": {},
     "output_type": "execute_result"
    }
   ],
   "source": [
    "(17-65.3)**2+(24-65.3)**2+(25-65.3)**2+(30-65.3)**2+(33-65.3)**2+(45-65.3)**2+(55-65.3)**2+(57-65.3)**2+(65-65.3)**2+(65-65.3)**2+(70-65.3)**2+(75-65.3)**2+(75-65.3)**2+(77-65.3)**2+(80-65.3)**2+(84-65.3)**2+(89-65.3)**2+(90-65.3)**2+(100-65.3)**2+(150-65.3)**2"
   ]
  },
  {
   "cell_type": "code",
   "execution_count": 74,
   "metadata": {},
   "outputs": [
    {
     "data": {
      "text/plain": [
       "950.11"
      ]
     },
     "execution_count": 74,
     "metadata": {},
     "output_type": "execute_result"
    }
   ],
   "source": [
    "19002.2 / 20"
   ]
  },
  {
   "cell_type": "code",
   "execution_count": 75,
   "metadata": {},
   "outputs": [
    {
     "data": {
      "text/plain": [
       "30.823854398825596"
      ]
     },
     "execution_count": 75,
     "metadata": {},
     "output_type": "execute_result"
    }
   ],
   "source": [
    "(950.11)**0.5"
   ]
  },
  {
   "cell_type": "code",
   "execution_count": 76,
   "metadata": {},
   "outputs": [
    {
     "name": "stdout",
     "output_type": "stream",
     "text": [
      "Среднее квадратичное отклонение = 30.823854398825596\n"
     ]
    }
   ],
   "source": [
    "n = len(data_set)\n",
    "s = 0\n",
    "for i in data_set:\n",
    "    s += (i - mean_data_set)**2   \n",
    "sigma = (s / n)**0.5\n",
    "print(f'Среднее квадратичное отклонение = {sigma}')"
   ]
  },
  {
   "cell_type": "markdown",
   "metadata": {},
   "source": [
    "**Дисперсия** равна среднему квадратичному отклонению, возведенному в квадрат:"
   ]
  },
  {
   "cell_type": "markdown",
   "metadata": {},
   "source": [
    "$$\\sigma^2 = \\frac{\\sum\\limits_{i=1}^{n} (x_i - \\overline{x})^2}{n}$$"
   ]
  },
  {
   "cell_type": "code",
   "execution_count": 77,
   "metadata": {},
   "outputs": [
    {
     "name": "stdout",
     "output_type": "stream",
     "text": [
      "Смещённая оценка дисперсии = 950.11\n"
     ]
    }
   ],
   "source": [
    "D = sigma**2\n",
    "print(f'Смещённая оценка дисперсии = {D}')"
   ]
  },
  {
   "cell_type": "markdown",
   "metadata": {},
   "source": [
    "**несмещенная оценка дисперсии**:\n",
    "    \n",
    "$$\\sigma^2_{несмещ.} = \\frac{\\sum\\limits_{i=1}^{n} (x_i - \\overline{x})^2}{n - 1}$$"
   ]
  },
  {
   "cell_type": "code",
   "execution_count": 78,
   "metadata": {},
   "outputs": [
    {
     "name": "stdout",
     "output_type": "stream",
     "text": [
      "Несмещённая оценка дисперсии = 1000.1157894736842\n"
     ]
    }
   ],
   "source": [
    "n = len(data_set)\n",
    "s = 0\n",
    "for i in data_set:\n",
    "    s += (i - mean_data_set)**2   \n",
    "sigma_2 = (s / (n - 1)) # НЕ взял n - 1 в скобки, из-за этого неверно посчиталось\n",
    "print(f'Несмещённая оценка дисперсии = {sigma_2}')"
   ]
  },
  {
   "cell_type": "markdown",
   "metadata": {},
   "source": [
    "**Ответ:** \n",
    "\n",
    "Среднее арифметическое = 65.3\n",
    "\n",
    "Среднее квадратичное отклонение = 30.823854398825596\n",
    "\n",
    "Смещённая оценка дисперсии = 950.11\n",
    "\n",
    "Несмещённая оценка дисперсии = 1000.11"
   ]
  },
  {
   "cell_type": "markdown",
   "metadata": {},
   "source": [
    "#### 2. В первом ящике находится 8 мячей, из которых 5 - белые. Во втором ящике - 12 мячей, из которых 5 белых. Из первого ящика вытаскивают случайным образом два мяча, из второго - 4. Какова вероятность того, что 3 мяча белые?"
   ]
  },
  {
   "cell_type": "code",
   "execution_count": 79,
   "metadata": {},
   "outputs": [],
   "source": [
    "from math import factorial"
   ]
  },
  {
   "cell_type": "code",
   "execution_count": 80,
   "metadata": {},
   "outputs": [],
   "source": [
    "def comb(n, k):\n",
    "    return int(factorial(n) / (factorial(k) * factorial(n - k)))"
   ]
  },
  {
   "cell_type": "code",
   "execution_count": 81,
   "metadata": {},
   "outputs": [
    {
     "data": {
      "text/plain": [
       "0.1262626262626263"
      ]
     },
     "execution_count": 81,
     "metadata": {},
     "output_type": "execute_result"
    }
   ],
   "source": [
    "# вариант 1: 2 б. из первого ящика + 1 белый из второго:\n",
    "p1 = (5/8*4/7) * ((5/12*7/11*6/10*5/9) + (7/12*5/11*6/10*5/9) + (7/12*6/11*5/10*5/9) + (7/12*6/11*5/10*5/9))\n",
    "p1"
   ]
  },
  {
   "cell_type": "code",
   "execution_count": 82,
   "metadata": {},
   "outputs": [
    {
     "data": {
      "text/plain": [
       "0.22727272727272727"
      ]
     },
     "execution_count": 82,
     "metadata": {},
     "output_type": "execute_result"
    }
   ],
   "source": [
    "# вариант 2: 1 белый из первого ящика + 2 белых из второго:\n",
    "p2 = ((5/8 * 3/7) + (3/8 * 5/7)) * ((5/12 * 4/11 * 7/10 * 6/9) + (5/12 * 7/11 * 4/10 * 6/9 ) + (7/12 * 5/11 * 6/10 * 4/9) + (7/12 * 6/11 * 5/10 * 4/9) + (5/12 * 7/11 * 6/10 * 4/9) + (7/12 * 5/11 * 4/10 * 6/9))\n",
    "p2\n",
    "\n",
    "#НЕ указал 2 варианта"
   ]
  },
  {
   "cell_type": "code",
   "execution_count": 83,
   "metadata": {},
   "outputs": [
    {
     "data": {
      "text/plain": [
       "0.22727272727272727"
      ]
     },
     "execution_count": 83,
     "metadata": {},
     "output_type": "execute_result"
    }
   ],
   "source": [
    "p2_c = ((comb(5,1) * comb(3,1)) / comb (8,2)) * ((comb(5,2) * comb(7,2)) / comb (12,4))\n",
    "p2_c"
   ]
  },
  {
   "cell_type": "code",
   "execution_count": 84,
   "metadata": {},
   "outputs": [
    {
     "data": {
      "text/plain": [
       "0.01515151515151515"
      ]
     },
     "execution_count": 84,
     "metadata": {},
     "output_type": "execute_result"
    }
   ],
   "source": [
    "#варинт 3: 0 белых изи первого + 3 белых второго:\n",
    "p3 = (3/8 * 2/7) * ((5/12*4/11*3/10*7/9)+(5/12*4/11*7/10*3/9)+(5/12*7/11*4/10*3/9)+(7/12*5/11*4/10*3/9)) #ошибка была в неверном знаке\n",
    "p3"
   ]
  },
  {
   "cell_type": "code",
   "execution_count": 85,
   "metadata": {},
   "outputs": [
    {
     "name": "stdout",
     "output_type": "stream",
     "text": [
      "Вероятность того, что 3 мяча белые = 0.3687\n"
     ]
    }
   ],
   "source": [
    "p_total = p1 + p2 + p3\n",
    "print(f'Вероятность того, что 3 мяча белые = {p_total:.4f}')"
   ]
  },
  {
   "cell_type": "markdown",
   "metadata": {},
   "source": [
    "**Ответ:**\n",
    "\n",
    "Вероятность того, что 3 мяча белые = 0.3687\n",
    "\n"
   ]
  },
  {
   "cell_type": "markdown",
   "metadata": {},
   "source": [
    "#### 3. На соревновании по биатлону один из трех спортсменов стреляет и попадает в мишень. Вероятность попадания для первого спортсмена равна 0.9, для второго — 0.8, для третьего — 0.6. Найти вероятность того, что выстрел произведен: a). первым спортсменом б). вторым спортсменом в). третьим спортсменом."
   ]
  },
  {
   "cell_type": "markdown",
   "metadata": {},
   "source": [
    "Воспользуемся формулой Байеса:\n",
    "\n",
    "$$P(B\\:|\\:A) = \\frac{P(B) \\cdot P(A\\:|\\:B)}{P(A)}$$"
   ]
  },
  {
   "cell_type": "code",
   "execution_count": 86,
   "metadata": {},
   "outputs": [],
   "source": [
    "p1 = 0.9\n",
    "p2 = 0.8\n",
    "p3 = 0.6\n",
    "p_b = 1/3 # априорная вероятность выстрела для стрелков равна для всех стрелков\n",
    "p_a = p_b*(p1 + p2 + p3)"
   ]
  },
  {
   "cell_type": "code",
   "execution_count": 87,
   "metadata": {},
   "outputs": [
    {
     "name": "stdout",
     "output_type": "stream",
     "text": [
      "Вероятность того, что выстрел произведен первым спортсменом = 0.3913043478260869\n"
     ]
    }
   ],
   "source": [
    "p1_a = (p_b * p1) / p_a\n",
    "print(f'Вероятность того, что выстрел произведен первым спортсменом = {p1_a}')"
   ]
  },
  {
   "cell_type": "code",
   "execution_count": 88,
   "metadata": {},
   "outputs": [
    {
     "name": "stdout",
     "output_type": "stream",
     "text": [
      "Вероятность того, что выстрел произведен вторым спортсменом = 0.34782608695652173\n"
     ]
    }
   ],
   "source": [
    "p2_a = (p_b * p2) / p_a\n",
    "print(f'Вероятность того, что выстрел произведен вторым спортсменом = {p2_a}')"
   ]
  },
  {
   "cell_type": "code",
   "execution_count": 89,
   "metadata": {},
   "outputs": [
    {
     "name": "stdout",
     "output_type": "stream",
     "text": [
      "Вероятность того, что выстрел произведен третьем спортсменом = 0.26086956521739124\n"
     ]
    }
   ],
   "source": [
    "p3_a = (p_b * p3) / p_a\n",
    "print(f'Вероятность того, что выстрел произведен третьем спортсменом = {p3_a}')"
   ]
  },
  {
   "cell_type": "markdown",
   "metadata": {},
   "source": [
    "**Ответ:** \n",
    "\n",
    "Вероятность того, что выстрел произведен первым спортсменом = 0.3913043478260869\n",
    "\n",
    "Вероятность того, что выстрел произведен вторым спортсменом = 0.34782608695652173\n",
    "\n",
    "Вероятность того, что выстрел произведен третьем спортсменом = 0.26086956521739124"
   ]
  },
  {
   "cell_type": "markdown",
   "metadata": {},
   "source": [
    "#### 4. В университет на факультеты A и B поступило равное количество студентов, а на факультет C студентов поступило столько же, сколько на A и B вместе. Вероятность того, что студент факультета A сдаст первую сессию, равна 0.8. Для студента факультета B эта вероятность равна 0.7, а для студента факультета C - 0.9. Студент сдал первую сессию. Какова вероятность, что он учится: a). на факультете A б). на факультете B в). на факультете C?"
   ]
  },
  {
   "cell_type": "markdown",
   "metadata": {},
   "source": [
    "Доли распределения на факультеты: X + X + 2X = 1, отсюда X = 0.25"
   ]
  },
  {
   "cell_type": "code",
   "execution_count": 90,
   "metadata": {},
   "outputs": [],
   "source": [
    "pA = 0.8\n",
    "pB = 0.7\n",
    "pC = 0.9\n",
    "\n",
    "p_b1 = 0.25\n",
    "p_b2 = 0.25\n",
    "p_b3 = 0.5\n",
    "p_a = pA*p_b1 + pB*p_b2 + pC*p_b3\n"
   ]
  },
  {
   "cell_type": "code",
   "execution_count": 91,
   "metadata": {},
   "outputs": [
    {
     "name": "stdout",
     "output_type": "stream",
     "text": [
      "Вероятность того, студент из факультета A = 0.24\n"
     ]
    }
   ],
   "source": [
    "p1_a = (p_b1 * pA) / p_a\n",
    "print(f'Вероятность того, студент из факультета A = {p1_a:.2f}')"
   ]
  },
  {
   "cell_type": "code",
   "execution_count": 92,
   "metadata": {},
   "outputs": [
    {
     "name": "stdout",
     "output_type": "stream",
     "text": [
      "Вероятность того, студент из факультета B = 0.21\n"
     ]
    }
   ],
   "source": [
    "p2_a = (p_b2 * pB) / p_a\n",
    "print(f'Вероятность того, студент из факультета B = {p2_a:.2f}')"
   ]
  },
  {
   "cell_type": "code",
   "execution_count": 93,
   "metadata": {},
   "outputs": [
    {
     "name": "stdout",
     "output_type": "stream",
     "text": [
      "Вероятность того, студент из факультета C = 0.55\n"
     ]
    }
   ],
   "source": [
    "p3_a = (p_b3 * pC) / p_a\n",
    "print(f'Вероятность того, студент из факультета C = {p3_a:.2f}')"
   ]
  },
  {
   "cell_type": "markdown",
   "metadata": {},
   "source": [
    "**Ответ:**\n",
    "\n",
    "Вероятность того, студент из факультета A = 0.24\n",
    "\n",
    "Вероятность того, студент из факультета B = 0.21\n",
    "\n",
    "Вероятность того, студент из факультета C = 0.55"
   ]
  },
  {
   "cell_type": "markdown",
   "metadata": {},
   "source": [
    "#### 5. Устройство состоит из трех деталей. Для первой детали вероятность выйти из строя в первый месяц равна 0.1, для второй - 0.2, для третьей - 0.25. Какова вероятность того, что в первый месяц выйдут из строя: а). все детали б). только две детали в). хотя бы одна деталь г). от одной до двух деталей?"
   ]
  },
  {
   "cell_type": "code",
   "execution_count": 94,
   "metadata": {},
   "outputs": [],
   "source": [
    "p1 = 0.1\n",
    "p2 = 0.2\n",
    "p3 = 0.25"
   ]
  },
  {
   "cell_type": "code",
   "execution_count": 95,
   "metadata": {},
   "outputs": [
    {
     "name": "stdout",
     "output_type": "stream",
     "text": [
      "Вероятность того, что в первый месяц выйдут из строя все детали = 0.0050\n"
     ]
    }
   ],
   "source": [
    "a = p1*p2*p3\n",
    "print(f'Вероятность того, что в первый месяц выйдут из строя все детали = {a:.4f}')"
   ]
  },
  {
   "cell_type": "code",
   "execution_count": 96,
   "metadata": {},
   "outputs": [
    {
     "name": "stdout",
     "output_type": "stream",
     "text": [
      "Вероятность того, что в первый месяц выйдут из строя только две детали = 0.08\n"
     ]
    }
   ],
   "source": [
    "b = (p1*p2*(1-p3)) + (p2*p3*(1-p1)) + (p1*p3*(1-p2))\n",
    "print(f'Вероятность того, что в первый месяц выйдут из строя только две детали = {b:.2f}')"
   ]
  },
  {
   "cell_type": "code",
   "execution_count": 97,
   "metadata": {},
   "outputs": [],
   "source": [
    "q1 = 1 - p1\n",
    "q2 = 1 - p2\n",
    "q3 = 1 - p3"
   ]
  },
  {
   "cell_type": "code",
   "execution_count": 98,
   "metadata": {},
   "outputs": [
    {
     "name": "stdout",
     "output_type": "stream",
     "text": [
      "Вероятность того, что в первый месяц выйдут из строя хотя бы одна деталь = 0.46\n"
     ]
    }
   ],
   "source": [
    "c = 1 - (q1 * q2 * q3)\n",
    "print(f'Вероятность того, что в первый месяц выйдут из строя хотя бы одна деталь = {c:.2f}')\n",
    "# неверное составил формулу"
   ]
  },
  {
   "cell_type": "code",
   "execution_count": 99,
   "metadata": {},
   "outputs": [
    {
     "name": "stdout",
     "output_type": "stream",
     "text": [
      "Вероятность того, что в первый месяц выйдут из строя от одной до двух деталей = 0.4550\n"
     ]
    }
   ],
   "source": [
    "d = c - a\n",
    "print(f'Вероятность того, что в первый месяц выйдут из строя от одной до двух деталей = \\\n",
    "{d:.4f}')\n",
    "#неверно составил формулу"
   ]
  },
  {
   "cell_type": "markdown",
   "metadata": {},
   "source": [
    "**Ответ:** \n",
    "\n",
    "Вероятность того, что в первый месяц выйдут из строя все детали = 0.0050\n",
    "\n",
    "Вероятность того, что в первый месяц выйдут из строя только две детали = 0.08\n",
    "\n",
    "Вероятность того, что в первый месяц выйдут из строя хотя бы одна деталь = 0.46\n",
    "\n",
    "Вероятность того, что в первый месяц выйдут из строя от одной до двух деталей = 0.4550"
   ]
  },
  {
   "cell_type": "code",
   "execution_count": null,
   "metadata": {},
   "outputs": [],
   "source": []
  }
 ],
 "metadata": {
  "kernelspec": {
   "display_name": "Python 3",
   "language": "python",
   "name": "python3"
  },
  "language_info": {
   "codemirror_mode": {
    "name": "ipython",
    "version": 3
   },
   "file_extension": ".py",
   "mimetype": "text/x-python",
   "name": "python",
   "nbconvert_exporter": "python",
   "pygments_lexer": "ipython3",
   "version": "3.8.5"
  }
 },
 "nbformat": 4,
 "nbformat_minor": 4
}
